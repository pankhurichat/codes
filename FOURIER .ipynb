{
 "cells": [
  {
   "cell_type": "code",
   "execution_count": 2,
   "id": "e47b3037",
   "metadata": {},
   "outputs": [],
   "source": [
    "import sympy as sy\n",
    "import numpy as np\n",
    "import matplotlib.pyplot as plt"
   ]
  },
  {
   "cell_type": "code",
   "execution_count": 3,
   "id": "491c4ada",
   "metadata": {},
   "outputs": [
    {
     "name": "stdout",
     "output_type": "stream",
     "text": [
      "Enter the function in variable x: sy.sin\n"
     ]
    }
   ],
   "source": [
    "x=sy.symbols('x')\n",
    "c=input(\"Enter the function in variable x: \") #for trignometric functions write sy before the function\n",
    "def f(x):\n",
    "    return eval(str(c))"
   ]
  },
  {
   "cell_type": "code",
   "execution_count": 4,
   "id": "2e256b6e",
   "metadata": {},
   "outputs": [
    {
     "name": "stdout",
     "output_type": "stream",
     "text": [
      "Enter lower limit: -sy.pi\n",
      "Enter upper limit: sy.pi\n"
     ]
    }
   ],
   "source": [
    "a=eval(str(input(\"Enter lower limit: \")))\n",
    "b=eval(str(input(\"Enter upper limit: \")))\n",
    "L=float((b-a)/2)"
   ]
  },
  {
   "cell_type": "code",
   "execution_count": 5,
   "id": "1d4f3ae1",
   "metadata": {},
   "outputs": [
    {
     "name": "stdout",
     "output_type": "stream",
     "text": [
      "Enter number of terms: 100\n"
     ]
    }
   ],
   "source": [
    "n=int(input(\"Enter number of terms: \"))"
   ]
  },
  {
   "cell_type": "code",
   "execution_count": 7,
   "id": "f94324ce",
   "metadata": {},
   "outputs": [],
   "source": [
    "# if f(x)==f(-x):\n",
    "#     print(\"function is even\")\n",
    "# elif f(x)!=f(-x):\n",
    "#     print(\"function is odd\")\n",
    "# else:\n",
    "#     print(\"function is neither odd nor even\")"
   ]
  },
  {
   "cell_type": "code",
   "execution_count": 8,
   "id": "1e10e989",
   "metadata": {},
   "outputs": [],
   "source": [
    "from scipy.integrate import quad\n",
    "def fourier(f,a,b):\n",
    "    fourier=[]\n",
    "    for i in range(1,n+1):\n",
    "        def g(x):\n",
    "            return f(x)*sy.cos((i*sy.pi*x)/L)\n",
    "        def h(x):\n",
    "            return f(x)*sy.sin((i*sy.pi*x)/L)\n",
    "        if f(x)==f(-x):\n",
    "            A0=quad(f,a,b)[0]*(1/(2*L))\n",
    "            An=(L)**-1*quad(g,a,b)[0]\n",
    "            Bn=0\n",
    "            fourier.append(A0/2+An+Bn)\n",
    "        elif f(x)!=f(-x):\n",
    "            A0=0\n",
    "            An=0\n",
    "            Bn=(L)**-1*quad(h,a,b)[0]\n",
    "            fourier.append(A0/2+An+Bn)\n",
    "        else:\n",
    "            A0=(2*L)**-1*quad(f,a,b)[0]\n",
    "            An=(L)**-1*quad(f*sy.cos((n*sy.pi*x)/L),a,b)[0]    \n",
    "            Bn=(L)**-1*quad(f*sy.sin((n*sy.pi*x)/L),a,b)[0]\n",
    "            fourier.append(A0/2+An+Bn)\n",
    "    return fourier"
   ]
  },
  {
   "cell_type": "code",
   "execution_count": 9,
   "id": "dc82d783",
   "metadata": {},
   "outputs": [
    {
     "data": {
      "text/plain": [
       "sin"
      ]
     },
     "execution_count": 9,
     "metadata": {},
     "output_type": "execute_result"
    }
   ],
   "source": [
    "f(x)"
   ]
  },
  {
   "cell_type": "code",
   "execution_count": 20,
   "id": "d9ed1ae9",
   "metadata": {},
   "outputs": [],
   "source": [
    "from scipy import integrate\n",
    "X=np.linspace(-m.pi,m.pi,200)\n",
    "period=2*m.pi\n",
    "def fourier(n):        ## integration done using simpson method\n",
    "    L=period/2\n",
    "    a0=(integrate.simps(f(X),X))/L\n",
    "    \n",
    "    an=[]\n",
    "    for i in range(1,n+1):\n",
    "        t=f(X)*(np.cos(i*m.pi*X/L))\n",
    "        z=(integrate.simps(t,X))/L\n",
    "        an.append(z)\n",
    "    \n",
    "    bn=[]\n",
    "    for i in range(1,n+1):\n",
    "        t=f(X)*(np.sin(i*m.pi*X/L))\n",
    "        z=(integrate.simps(t,X))/L\n",
    "        bn.append(z)\n",
    "    \n",
    "    F=[]\n",
    "    for i in range(0,len(X)):\n",
    "        sum = a0/2 \n",
    "        for j in range(0,len(an)):\n",
    "            sum+=(m.cos((j+1)*m.pi*X[i]/L))*an[j]+(m.sin((j+1)*m.pi*X[i]/L))*bn[j]\n",
    "        F.append(sum)\n",
    "    return F  "
   ]
  },
  {
   "cell_type": "code",
   "execution_count": 23,
   "id": "5f8fb058",
   "metadata": {},
   "outputs": [
    {
     "data": {
      "text/plain": [
       "[<matplotlib.lines.Line2D at 0x1bce832b610>]"
      ]
     },
     "execution_count": 23,
     "metadata": {},
     "output_type": "execute_result"
    },
    {
     "data": {
      "image/png": "[encoded data removed]",
      "text/plain": [
       "<Figure size 432x288 with 1 Axes>"
      ]
     },
     "metadata": {
      "needs_background": "light"
     },
     "output_type": "display_data"
    }
   ],
   "source": [
    "F=fourier(10)\n",
    "plt.plot(X,F)"
   ]
  },
  {
   "cell_type": "code",
   "execution_count": null,
   "id": "50667a63",
   "metadata": {},
   "outputs": [],
   "source": []
  }
 ],
 "metadata": {
  "kernelspec": {
   "display_name": "Python 3 (ipykernel)",
   "language": "python",
   "name": "python3"
  },
  "language_info": {
   "codemirror_mode": {
    "name": "ipython",
    "version": 3
   },
   "file_extension": ".py",
   "mimetype": "text/x-python",
   "name": "python",
   "nbconvert_exporter": "python",
   "pygments_lexer": "ipython3",
   "version": "3.9.12"
  }
 },
 "nbformat": 4,
 "nbformat_minor": 5
}
