{
 "cells": [
  {
   "cell_type": "code",
   "execution_count": 1,
   "id": "959e27e0",
   "metadata": {},
   "outputs": [],
   "source": [
    "from sympy import *\n",
    "from math import *\n",
    "from numpy import *\n",
    "import matplotlib.pyplot as plt\n",
    "#%matplotlib qt"
   ]
  },
  {
   "cell_type": "code",
   "execution_count": 66,
   "id": "a4ee084d",
   "metadata": {},
   "outputs": [],
   "source": [
    "x,n=symbols(\"x,n\")"
   ]
  },
  {
   "cell_type": "code",
   "execution_count": 3,
   "id": "73bb0661",
   "metadata": {},
   "outputs": [
    {
     "name": "stdout",
     "output_type": "stream",
     "text": [
      "Enter your function in x: x**2\n",
      "Enter lower limit: -pi\n",
      "Enter upper limit: pi\n"
     ]
    }
   ],
   "source": [
    "a=input(\"Enter your function in x: \")\n",
    "b=(input(\"Enter lower limit: \"))\n",
    "c=(input(\"Enter upper limit: \"))"
   ]
  },
  {
   "cell_type": "code",
   "execution_count": 4,
   "id": "062a34ed",
   "metadata": {},
   "outputs": [],
   "source": [
    "l_lower=eval(str(b))\n",
    "l_upper=eval(str(c))\n",
    "l=(l_upper-l_lower)/2\n",
    "f= eval(str(a))"
   ]
  },
  {
   "cell_type": "code",
   "execution_count": 5,
   "id": "33eeda7c",
   "metadata": {},
   "outputs": [
    {
     "data": {
      "text/latex": [
       "$\\displaystyle x^{2}$"
      ],
      "text/plain": [
       "x**2"
      ]
     },
     "execution_count": 5,
     "metadata": {},
     "output_type": "execute_result"
    }
   ],
   "source": [
    "f"
   ]
  },
  {
   "cell_type": "code",
   "execution_count": 209,
   "id": "21bed62e",
   "metadata": {},
   "outputs": [],
   "source": [
    "# from math import *\n",
    "# from sympy import *\n",
    "# x,y,n=symbols('x y n ')\n",
    "# fx=f\n",
    "# # an=0\n",
    "# # bn=0\n",
    "# # fourier=0\n",
    "# # for n in range(1,10):\n",
    "# a0=(integrate(fx,(x,-pi,pi)))/pi\n",
    "# an=(4*(-1)**n)/(n**2)\n",
    "# # an=(integrate(fx*(cos(n*x)),(x,-pi,pi)))/pi\n",
    "# bn=(integrate((fx/pi)*(sin(n*x)),(x,-pi,pi)))/pi\n",
    "# fourier=a0/2+bn*sin(n*x)+an*cos(n*x)"
   ]
  },
  {
   "cell_type": "code",
   "execution_count": 70,
   "id": "a2468b82",
   "metadata": {},
   "outputs": [
    {
     "ename": "ValueError",
     "evalue": "Invalid limits given: ((0, -pi, pi),)",
     "output_type": "error",
     "traceback": [
      "\u001b[1;31m---------------------------------------------------------------------------\u001b[0m",
      "\u001b[1;31mValueError\u001b[0m                                Traceback (most recent call last)",
      "Input \u001b[1;32mIn [70]\u001b[0m, in \u001b[0;36m<cell line: 9>\u001b[1;34m()\u001b[0m\n\u001b[0;32m      9\u001b[0m \u001b[38;5;28;01mfor\u001b[39;00m x \u001b[38;5;129;01min\u001b[39;00m \u001b[38;5;28mrange\u001b[39m(\u001b[38;5;241m0\u001b[39m,\u001b[38;5;241m10\u001b[39m):\n\u001b[0;32m     10\u001b[0m     \u001b[38;5;28;01mfor\u001b[39;00m n \u001b[38;5;129;01min\u001b[39;00m arr:\n\u001b[1;32m---> 11\u001b[0m         a0\u001b[38;5;241m=\u001b[39m\u001b[43mintegrate\u001b[49m\u001b[43m(\u001b[49m\u001b[43mfx\u001b[49m\u001b[43m,\u001b[49m\u001b[43m(\u001b[49m\u001b[43mx\u001b[49m\u001b[43m,\u001b[49m\u001b[38;5;241;43m-\u001b[39;49m\u001b[43mpi\u001b[49m\u001b[43m,\u001b[49m\u001b[43mpi\u001b[49m\u001b[43m)\u001b[49m\u001b[43m)\u001b[49m\u001b[38;5;241m/\u001b[39mpi\n\u001b[0;32m     12\u001b[0m         an\u001b[38;5;241m+\u001b[39m\u001b[38;5;241m=\u001b[39m(integrate(fx\u001b[38;5;241m*\u001b[39m(cos(n\u001b[38;5;241m*\u001b[39mx)),(x,\u001b[38;5;241m-\u001b[39mpi,pi)))\u001b[38;5;241m/\u001b[39mpi  \n\u001b[0;32m     13\u001b[0m         bn\u001b[38;5;241m+\u001b[39m\u001b[38;5;241m=\u001b[39mintegrate((fx\u001b[38;5;241m/\u001b[39mpi)\u001b[38;5;241m*\u001b[39m(sin(n\u001b[38;5;241m*\u001b[39mx)),(x,\u001b[38;5;241m-\u001b[39mpi,pi))\u001b[38;5;241m/\u001b[39mpi\n",
      "File \u001b[1;32m~\\anaconda3\\lib\\site-packages\\sympy\\integrals\\integrals.py:1563\u001b[0m, in \u001b[0;36mintegrate\u001b[1;34m(meijerg, conds, risch, heurisch, manual, *args, **kwargs)\u001b[0m\n\u001b[0;32m   1399\u001b[0m \u001b[38;5;124;03m\"\"\"integrate(f, var, ...)\u001b[39;00m\n\u001b[0;32m   1400\u001b[0m \n\u001b[0;32m   1401\u001b[0m \u001b[38;5;124;03m.. deprecated:: 1.6\u001b[39;00m\n\u001b[1;32m   (...)\u001b[0m\n\u001b[0;32m   1553\u001b[0m \n\u001b[0;32m   1554\u001b[0m \u001b[38;5;124;03m\"\"\"\u001b[39;00m\n\u001b[0;32m   1555\u001b[0m doit_flags \u001b[38;5;241m=\u001b[39m {\n\u001b[0;32m   1556\u001b[0m     \u001b[38;5;124m'\u001b[39m\u001b[38;5;124mdeep\u001b[39m\u001b[38;5;124m'\u001b[39m: \u001b[38;5;28;01mFalse\u001b[39;00m,\n\u001b[0;32m   1557\u001b[0m     \u001b[38;5;124m'\u001b[39m\u001b[38;5;124mmeijerg\u001b[39m\u001b[38;5;124m'\u001b[39m: meijerg,\n\u001b[1;32m   (...)\u001b[0m\n\u001b[0;32m   1561\u001b[0m     \u001b[38;5;124m'\u001b[39m\u001b[38;5;124mmanual\u001b[39m\u001b[38;5;124m'\u001b[39m: manual\n\u001b[0;32m   1562\u001b[0m     }\n\u001b[1;32m-> 1563\u001b[0m integral \u001b[38;5;241m=\u001b[39m Integral(\u001b[38;5;241m*\u001b[39margs, \u001b[38;5;241m*\u001b[39m\u001b[38;5;241m*\u001b[39mkwargs)\n\u001b[0;32m   1565\u001b[0m \u001b[38;5;28;01mif\u001b[39;00m \u001b[38;5;28misinstance\u001b[39m(integral, Integral):\n\u001b[0;32m   1566\u001b[0m     \u001b[38;5;28;01mreturn\u001b[39;00m integral\u001b[38;5;241m.\u001b[39mdoit(\u001b[38;5;241m*\u001b[39m\u001b[38;5;241m*\u001b[39mdoit_flags)\n",
      "File \u001b[1;32m~\\anaconda3\\lib\\site-packages\\sympy\\integrals\\integrals.py:99\u001b[0m, in \u001b[0;36mIntegral.__new__\u001b[1;34m(cls, function, *symbols, **assumptions)\u001b[0m\n\u001b[0;32m     89\u001b[0m \u001b[38;5;28;01mif\u001b[39;00m \u001b[38;5;28misinstance\u001b[39m(function, Poly):\n\u001b[0;32m     90\u001b[0m     sympy_deprecation_warning(\n\u001b[0;32m     91\u001b[0m         \u001b[38;5;124;03m\"\"\"\u001b[39;00m\n\u001b[0;32m     92\u001b[0m \u001b[38;5;124;03m        integrate(Poly) and Integral(Poly) are deprecated. Instead,\u001b[39;00m\n\u001b[1;32m   (...)\u001b[0m\n\u001b[0;32m     96\u001b[0m         deprecated_since_version\u001b[38;5;241m=\u001b[39m\u001b[38;5;124m\"\u001b[39m\u001b[38;5;124m1.6\u001b[39m\u001b[38;5;124m\"\u001b[39m,\n\u001b[0;32m     97\u001b[0m         active_deprecations_target\u001b[38;5;241m=\u001b[39m\u001b[38;5;124m\"\u001b[39m\u001b[38;5;124mdeprecated-integrate-poly\u001b[39m\u001b[38;5;124m\"\u001b[39m)\n\u001b[1;32m---> 99\u001b[0m obj \u001b[38;5;241m=\u001b[39m AddWithLimits\u001b[38;5;241m.\u001b[39m\u001b[38;5;21m__new__\u001b[39m(\u001b[38;5;28mcls\u001b[39m, function, \u001b[38;5;241m*\u001b[39msymbols, \u001b[38;5;241m*\u001b[39m\u001b[38;5;241m*\u001b[39massumptions)\n\u001b[0;32m    100\u001b[0m \u001b[38;5;28;01mreturn\u001b[39;00m obj\n",
      "File \u001b[1;32m~\\anaconda3\\lib\\site-packages\\sympy\\concrete\\expr_with_limits.py:545\u001b[0m, in \u001b[0;36mAddWithLimits.__new__\u001b[1;34m(cls, function, *symbols, **assumptions)\u001b[0m\n\u001b[0;32m    543\u001b[0m \u001b[38;5;28;01mdef\u001b[39;00m \u001b[38;5;21m__new__\u001b[39m(\u001b[38;5;28mcls\u001b[39m, function, \u001b[38;5;241m*\u001b[39msymbols, \u001b[38;5;241m*\u001b[39m\u001b[38;5;241m*\u001b[39massumptions):\n\u001b[0;32m    544\u001b[0m     \u001b[38;5;28;01mfrom\u001b[39;00m \u001b[38;5;21;01msympy\u001b[39;00m\u001b[38;5;21;01m.\u001b[39;00m\u001b[38;5;21;01mconcrete\u001b[39;00m\u001b[38;5;21;01m.\u001b[39;00m\u001b[38;5;21;01msummations\u001b[39;00m \u001b[38;5;28;01mimport\u001b[39;00m Sum\n\u001b[1;32m--> 545\u001b[0m     pre \u001b[38;5;241m=\u001b[39m _common_new(\u001b[38;5;28mcls\u001b[39m, function, \u001b[38;5;241m*\u001b[39msymbols,\n\u001b[0;32m    546\u001b[0m         discrete\u001b[38;5;241m=\u001b[39m\u001b[38;5;28missubclass\u001b[39m(\u001b[38;5;28mcls\u001b[39m, Sum), \u001b[38;5;241m*\u001b[39m\u001b[38;5;241m*\u001b[39massumptions)\n\u001b[0;32m    547\u001b[0m     \u001b[38;5;28;01mif\u001b[39;00m \u001b[38;5;28misinstance\u001b[39m(pre, \u001b[38;5;28mtuple\u001b[39m):\n\u001b[0;32m    548\u001b[0m         function, limits, orientation \u001b[38;5;241m=\u001b[39m pre\n",
      "File \u001b[1;32m~\\anaconda3\\lib\\site-packages\\sympy\\concrete\\expr_with_limits.py:57\u001b[0m, in \u001b[0;36m_common_new\u001b[1;34m(cls, function, discrete, *symbols, **assumptions)\u001b[0m\n\u001b[0;32m     54\u001b[0m     \u001b[38;5;28;01mreturn\u001b[39;00m S\u001b[38;5;241m.\u001b[39mNaN\n\u001b[0;32m     56\u001b[0m \u001b[38;5;28;01mif\u001b[39;00m symbols:\n\u001b[1;32m---> 57\u001b[0m     limits, orientation \u001b[38;5;241m=\u001b[39m \u001b[43m_process_limits\u001b[49m\u001b[43m(\u001b[49m\u001b[38;5;241;43m*\u001b[39;49m\u001b[43msymbols\u001b[49m\u001b[43m,\u001b[49m\u001b[43m \u001b[49m\u001b[43mdiscrete\u001b[49m\u001b[38;5;241;43m=\u001b[39;49m\u001b[43mdiscrete\u001b[49m\u001b[43m)\u001b[49m\n\u001b[0;32m     58\u001b[0m     \u001b[38;5;28;01mfor\u001b[39;00m i, li \u001b[38;5;129;01min\u001b[39;00m \u001b[38;5;28menumerate\u001b[39m(limits):\n\u001b[0;32m     59\u001b[0m         \u001b[38;5;28;01mif\u001b[39;00m \u001b[38;5;28mlen\u001b[39m(li) \u001b[38;5;241m==\u001b[39m \u001b[38;5;241m4\u001b[39m:\n",
      "File \u001b[1;32m~\\anaconda3\\lib\\site-packages\\sympy\\concrete\\expr_with_limits.py:194\u001b[0m, in \u001b[0;36m_process_limits\u001b[1;34m(discrete, *symbols)\u001b[0m\n\u001b[0;32m    191\u001b[0m                     limits\u001b[38;5;241m.\u001b[39mappend(Tuple(newsymbol, V[\u001b[38;5;241m1\u001b[39m]))\n\u001b[0;32m    192\u001b[0m                     \u001b[38;5;28;01mcontinue\u001b[39;00m\n\u001b[1;32m--> 194\u001b[0m     \u001b[38;5;28;01mraise\u001b[39;00m \u001b[38;5;167;01mValueError\u001b[39;00m(\u001b[38;5;124m'\u001b[39m\u001b[38;5;124mInvalid limits given: \u001b[39m\u001b[38;5;132;01m%s\u001b[39;00m\u001b[38;5;124m'\u001b[39m \u001b[38;5;241m%\u001b[39m \u001b[38;5;28mstr\u001b[39m(symbols))\n\u001b[0;32m    196\u001b[0m \u001b[38;5;28;01mreturn\u001b[39;00m limits, orientation\n",
      "\u001b[1;31mValueError\u001b[0m: Invalid limits given: ((0, -pi, pi),)"
     ]
    }
   ],
   "source": [
    "from math import *\n",
    "from sympy import *\n",
    "x,y,n=symbols('x y n ')\n",
    "fx=f\n",
    "an=0\n",
    "bn=0\n",
    "fourier=0\n",
    "arr=[1,2,3,4,5]\n",
    "for x in range(0,10):\n",
    "    for n in arr:\n",
    "        a0=integrate(fx,(x,-pi,pi))/pi\n",
    "        an+=(integrate(fx*(cos(n*x)),(x,-pi,pi)))/pi  \n",
    "        bn+=integrate((fx/pi)*(sin(n*x)),(x,-pi,pi))/pi\n",
    "        fourier+=a0/2+bn*sin(n*x)+an*cos(n*x)"
   ]
  },
  {
   "cell_type": "code",
   "execution_count": 68,
   "id": "57b45e89",
   "metadata": {},
   "outputs": [
    {
     "data": {
      "text/latex": [
       "$\\displaystyle \\frac{\\pi^{2}}{3}$"
      ],
      "text/plain": [
       "pi**2/3"
      ]
     },
     "execution_count": 68,
     "metadata": {},
     "output_type": "execute_result"
    }
   ],
   "source": [
    "a0/2"
   ]
  },
  {
   "cell_type": "code",
   "execution_count": 69,
   "id": "e1414cac",
   "metadata": {},
   "outputs": [
    {
     "data": {
      "text/latex": [
       "$\\displaystyle - \\frac{3019}{900}$"
      ],
      "text/plain": [
       "-3019/900"
      ]
     },
     "execution_count": 69,
     "metadata": {},
     "output_type": "execute_result"
    }
   ],
   "source": [
    "an"
   ]
  },
  {
   "cell_type": "code",
   "execution_count": null,
   "id": "f2aa86ae",
   "metadata": {},
   "outputs": [],
   "source": []
  },
  {
   "cell_type": "code",
   "execution_count": 65,
   "id": "b8ddf5fd",
   "metadata": {},
   "outputs": [
    {
     "data": {
      "text/latex": [
       "$\\displaystyle - 4 \\cos{\\left(x \\right)} - 3 \\cos{\\left(2 x \\right)} - \\frac{31 \\cos{\\left(3 x \\right)}}{9} - \\frac{115 \\cos{\\left(4 x \\right)}}{36} - \\frac{3019 \\cos{\\left(5 x \\right)}}{900} + \\frac{5 \\pi^{2}}{3}$"
      ],
      "text/plain": [
       "-4*cos(x) - 3*cos(2*x) - 31*cos(3*x)/9 - 115*cos(4*x)/36 - 3019*cos(5*x)/900 + 5*pi**2/3"
      ]
     },
     "execution_count": 65,
     "metadata": {},
     "output_type": "execute_result"
    }
   ],
   "source": [
    "fourier"
   ]
  },
  {
   "cell_type": "code",
   "execution_count": null,
   "id": "0a0b7686",
   "metadata": {},
   "outputs": [],
   "source": []
  },
  {
   "cell_type": "code",
   "execution_count": 44,
   "id": "cd108ac6",
   "metadata": {},
   "outputs": [],
   "source": [
    "x,n=symbols('x,n')"
   ]
  },
  {
   "cell_type": "code",
   "execution_count": 45,
   "id": "4f9a5d8f",
   "metadata": {},
   "outputs": [],
   "source": [
    "x=1\n",
    "p=eval(str(fourier))"
   ]
  },
  {
   "cell_type": "code",
   "execution_count": 46,
   "id": "3161afbe",
   "metadata": {},
   "outputs": [
    {
     "data": {
      "text/latex": [
       "$\\displaystyle - \\frac{973 \\cos{\\left(6 \\right)}}{300} - \\frac{48877 \\cos{\\left(7 \\right)}}{14700} - 4 \\cos{\\left(1 \\right)} - \\frac{3019 \\cos{\\left(5 \\right)}}{900} - \\frac{191833 \\cos{\\left(8 \\right)}}{58800} - 3 \\cos{\\left(2 \\right)} - \\frac{115 \\cos{\\left(4 \\right)}}{36} - \\frac{5257891 \\cos{\\left(9 \\right)}}{1587600} - \\frac{31 \\cos{\\left(3 \\right)}}{9} + 3 \\pi^{2}$"
      ],
      "text/plain": [
       "-973*cos(6)/300 - 48877*cos(7)/14700 - 4*cos(1) - 3019*cos(5)/900 - 191833*cos(8)/58800 - 3*cos(2) - 115*cos(4)/36 - 5257891*cos(9)/1587600 - 31*cos(3)/9 + 3*pi**2"
      ]
     },
     "execution_count": 46,
     "metadata": {},
     "output_type": "execute_result"
    }
   ],
   "source": [
    "p"
   ]
  },
  {
   "cell_type": "code",
   "execution_count": 47,
   "id": "81f13911",
   "metadata": {},
   "outputs": [
    {
     "data": {
      "text/plain": [
       "[<matplotlib.lines.Line2D at 0x1c2aea1d4c0>]"
      ]
     },
     "execution_count": 47,
     "metadata": {},
     "output_type": "execute_result"
    },
    {
     "data": {
      "image/png": "[encoded data removed]",
      "text/plain": [
       "<Figure size 432x288 with 1 Axes>"
      ]
     },
     "metadata": {
      "needs_background": "light"
     },
     "output_type": "display_data"
    }
   ],
   "source": [
    "d=[]\n",
    "for x in range(0,10):\n",
    "    d.append(eval(str(fourier)))\n",
    "plt.plot(d)"
   ]
  },
  {
   "cell_type": "code",
   "execution_count": 219,
   "id": "b71ea9c0",
   "metadata": {},
   "outputs": [
    {
     "data": {
      "image/png": "[encoded data removed]",
      "text/plain": [
       "<Figure size 432x288 with 1 Axes>"
      ]
     },
     "metadata": {
      "needs_background": "light"
     },
     "output_type": "display_data"
    }
   ],
   "source": [
    "q=[]\n",
    "p=[]\n",
    "q1=[]\n",
    "for x in range(-50,50):\n",
    "    q.append(eval(str(a)))\n",
    "    p.append(x)\n",
    "    q1.append(-eval(str(a)))\n",
    "plt.plot(p,q,label=\"f(x)\")\n",
    "plt.plot(d)\n",
    "# plt.plot(p,q1,label=\"f(-x)\")\n",
    "plt.legend(loc=\"upper center\")\n",
    "plt.xlabel(\"X\")\n",
    "plt.ylabel(\"f(x)\")\n",
    "# plt.ylim(-100,100)\n",
    "plt.grid()\n",
    "plt.show()"
   ]
  },
  {
   "cell_type": "code",
   "execution_count": 132,
   "id": "42e1af10",
   "metadata": {},
   "outputs": [
    {
     "data": {
      "text/latex": [
       "$\\displaystyle \\tilde{\\infty}$"
      ],
      "text/plain": [
       "zoo"
      ]
     },
     "execution_count": 132,
     "metadata": {},
     "output_type": "execute_result"
    }
   ],
   "source": [
    "f"
   ]
  },
  {
   "cell_type": "code",
   "execution_count": 125,
   "id": "8737ddef",
   "metadata": {},
   "outputs": [
    {
     "name": "stdout",
     "output_type": "stream",
     "text": [
      "Enter your function in x: sy.sin(x)\n",
      "Enter lower limit: -pi\n",
      "Enter upper limit: pi\n"
     ]
    }
   ],
   "source": [
    "import sympy as sy                                                       \n",
    "from math import *\n",
    "import numpy as np\n",
    "import matplotlib.pyplot as plt\n",
    "#%matplotlib qt\n",
    "x,n=symbols(\"x,n\")\n",
    "a=str(input(\"Enter your function in x: \"))                                 # Enter the periodic function whose series needs to be calculated \n",
    "b=(input(\"Enter lower limit: \"))                                           # Enter the lower limit of integration\n",
    "c=(input(\"Enter upper limit: \"))                                           # Enter the upper limit of integration\n"
   ]
  },
  {
   "cell_type": "code",
   "execution_count": 126,
   "id": "6a7492bd",
   "metadata": {},
   "outputs": [],
   "source": [
    "l_lower=eval(str(b))\n",
    "l_upper=eval(str(c))\n",
    "l=(l_upper-l_lower)/2                                                      # Gives the half of periodicity L\n",
    "x,y,n=symbols('x y n ')                                                    # to use x y n as symbols\n",
    "fx=eval(str(a))                                                            # To evaluate the user defined function\n",
    "an=[]\n",
    "bn=[]\n",
    "fourier=[]         "
   ]
  },
  {
   "cell_type": "code",
   "execution_count": 127,
   "id": "efc3b8a1",
   "metadata": {},
   "outputs": [],
   "source": [
    "c=[]\n",
    "xx=[]                                                              # The range in which function is orthogonal\n",
    "# for i in range(-3,3):\n",
    "#     c.append(eval(str(fourier)))\n",
    "#     xx.append(i)\n",
    "for n in range(1,15):                                                      # To find the first 9 terms of series\n",
    "        a0=integrate(fx,(x,l_lower,l_upper))/l\n",
    "        an.append((integrate(fx*(sy.cos(n*x)),(x,l_lower,l_upper))/l)*sy.cos(n*x))   # calculating second fourier coefficient\n",
    "        bn.append((integrate(fx*(sy.sin(n*x)),(x,l_lower,l_upper))/l)*sy.sin(n*x))   # calculating third fourier coefficient"
   ]
  },
  {
   "cell_type": "code",
   "execution_count": 128,
   "id": "08184b63",
   "metadata": {},
   "outputs": [
    {
     "data": {
      "text/latex": [
       "$\\displaystyle 0$"
      ],
      "text/plain": [
       "0"
      ]
     },
     "execution_count": 128,
     "metadata": {},
     "output_type": "execute_result"
    }
   ],
   "source": [
    "a0"
   ]
  },
  {
   "cell_type": "code",
   "execution_count": 129,
   "id": "20c4a9f3",
   "metadata": {},
   "outputs": [
    {
     "data": {
      "text/plain": [
       "[0, 0, 0, 0, 0, 0, 0, 0, 0, 0, 0, 0, 0, 0]"
      ]
     },
     "execution_count": 129,
     "metadata": {},
     "output_type": "execute_result"
    }
   ],
   "source": [
    "an"
   ]
  },
  {
   "cell_type": "code",
   "execution_count": 130,
   "id": "74a4e3a8",
   "metadata": {},
   "outputs": [
    {
     "data": {
      "text/plain": [
       "[1.0*sin(x),\n",
       " 0,\n",
       " 0,\n",
       " 0,\n",
       " 0,\n",
       " 0,\n",
       " 1.96173613246674e-33*sin(7*x),\n",
       " 0,\n",
       " 0,\n",
       " 9.80868066233369e-34*sin(10*x),\n",
       " -1.88477314457097e-17*sin(11*x),\n",
       " 0,\n",
       " 1.34626653183641e-17*sin(13*x),\n",
       " 0]"
      ]
     },
     "execution_count": 130,
     "metadata": {},
     "output_type": "execute_result"
    }
   ],
   "source": [
    "bn"
   ]
  },
  {
   "cell_type": "code",
   "execution_count": 131,
   "id": "7c229d0a",
   "metadata": {},
   "outputs": [],
   "source": [
    "fourier=sum(an+bn)+a0/2  "
   ]
  },
  {
   "cell_type": "code",
   "execution_count": 132,
   "id": "b374f909",
   "metadata": {},
   "outputs": [
    {
     "data": {
      "text/latex": [
       "$\\displaystyle 1.0 \\sin{\\left(x \\right)} + 1.96173613246674 \\cdot 10^{-33} \\sin{\\left(7 x \\right)} + 9.80868066233369 \\cdot 10^{-34} \\sin{\\left(10 x \\right)} - 1.88477314457097 \\cdot 10^{-17} \\sin{\\left(11 x \\right)} + 1.34626653183641 \\cdot 10^{-17} \\sin{\\left(13 x \\right)}$"
      ],
      "text/plain": [
       "1.0*sin(x) + 1.96173613246674e-33*sin(7*x) + 9.80868066233369e-34*sin(10*x) - 1.88477314457097e-17*sin(11*x) + 1.34626653183641e-17*sin(13*x)"
      ]
     },
     "execution_count": 132,
     "metadata": {},
     "output_type": "execute_result"
    }
   ],
   "source": [
    "fourier"
   ]
  },
  {
   "cell_type": "code",
   "execution_count": 133,
   "id": "df2b81af",
   "metadata": {},
   "outputs": [
    {
     "data": {
      "text/latex": [
       "$\\displaystyle 1.0 \\sin{\\left(x \\right)} + 1.96173613246674 \\cdot 10^{-33} \\sin{\\left(7 x \\right)} + 9.80868066233369 \\cdot 10^{-34} \\sin{\\left(10 x \\right)} - 1.88477314457097 \\cdot 10^{-17} \\sin{\\left(11 x \\right)} + 1.34626653183641 \\cdot 10^{-17} \\sin{\\left(13 x \\right)}$"
      ],
      "text/plain": [
       "1.0*sin(x) + 1.96173613246674e-33*sin(7*x) + 9.80868066233369e-34*sin(10*x) - 1.88477314457097e-17*sin(11*x) + 1.34626653183641e-17*sin(13*x)"
      ]
     },
     "execution_count": 133,
     "metadata": {},
     "output_type": "execute_result"
    }
   ],
   "source": [
    "fourier"
   ]
  },
  {
   "cell_type": "code",
   "execution_count": 134,
   "id": "898580bd",
   "metadata": {},
   "outputs": [
    {
     "data": {
      "text/latex": [
       "$\\displaystyle 1.0 \\sin{\\left(x \\right)} + 1.96173613246674 \\cdot 10^{-33} \\sin{\\left(7 x \\right)} + 9.80868066233369 \\cdot 10^{-34} \\sin{\\left(10 x \\right)} - 1.88477314457097 \\cdot 10^{-17} \\sin{\\left(11 x \\right)} + 1.34626653183641 \\cdot 10^{-17} \\sin{\\left(13 x \\right)}$"
      ],
      "text/plain": [
       "1.0*sin(x) + 1.96173613246674e-33*sin(7*x) + 9.80868066233369e-34*sin(10*x) - 1.88477314457097e-17*sin(11*x) + 1.34626653183641e-17*sin(13*x)"
      ]
     },
     "execution_count": 134,
     "metadata": {},
     "output_type": "execute_result"
    }
   ],
   "source": [
    "fourier"
   ]
  },
  {
   "cell_type": "code",
   "execution_count": 135,
   "id": "842c41fb",
   "metadata": {},
   "outputs": [],
   "source": [
    "z=[]\n",
    "w=[]\n",
    "for x in range(0,100):\n",
    "    z.append(eval(str(fourier)))\n",
    "    w.append(x)"
   ]
  },
  {
   "cell_type": "code",
   "execution_count": null,
   "id": "eb5de4ec",
   "metadata": {},
   "outputs": [],
   "source": []
  },
  {
   "cell_type": "code",
   "execution_count": 136,
   "id": "cf96410d",
   "metadata": {},
   "outputs": [
    {
     "data": {
      "text/plain": [
       "[<matplotlib.lines.Line2D at 0x1207f63ea90>]"
      ]
     },
     "execution_count": 136,
     "metadata": {},
     "output_type": "execute_result"
    },
    {
     "data": {
      "image/png": "[encoded data removed]",
      "text/plain": [
       "<Figure size 432x288 with 1 Axes>"
      ]
     },
     "metadata": {
      "needs_background": "light"
     },
     "output_type": "display_data"
    }
   ],
   "source": [
    "plt.plot(w,z)"
   ]
  },
  {
   "cell_type": "code",
   "execution_count": null,
   "id": "bc0e7ba0",
   "metadata": {},
   "outputs": [],
   "source": []
  },
  {
   "cell_type": "code",
   "execution_count": null,
   "id": "1cd0a1b2",
   "metadata": {},
   "outputs": [],
   "source": []
  }
 ],
 "metadata": {
  "kernelspec": {
   "display_name": "Python 3 (ipykernel)",
   "language": "python",
   "name": "python3"
  },
  "language_info": {
   "codemirror_mode": {
    "name": "ipython",
    "version": 3
   },
   "file_extension": ".py",
   "mimetype": "text/x-python",
   "name": "python",
   "nbconvert_exporter": "python",
   "pygments_lexer": "ipython3",
   "version": "3.9.12"
  }
 },
 "nbformat": 4,
 "nbformat_minor": 5
}
