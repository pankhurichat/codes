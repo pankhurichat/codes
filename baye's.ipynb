{
 "cells": [
  {
   "cell_type": "code",
   "execution_count": 2,
   "id": "f059cc29",
   "metadata": {},
   "outputs": [],
   "source": [
    "import numpy as np\n",
    "import matplotlib.pyplot as plt\n",
    "import random \n",
    "import math as m\n",
    "import scipy.special "
   ]
  },
  {
   "cell_type": "code",
   "execution_count": 4,
   "id": "df8fb12e",
   "metadata": {},
   "outputs": [
    {
     "name": "stdout",
     "output_type": "stream",
     "text": [
      "[0, 0, 1, 1, 1, 0, 1, 0, 1, 1, 1, 1, 1, 0, 1, 0, 1, 0, 1, 1]\n",
      "13\n"
     ]
    }
   ],
   "source": [
    "h=[0,1]\n",
    "N=20                                #number of times the event occured \n",
    "x=np.random.choice(h,N,p=[0.5,0.5]).tolist()\n",
    "# x=[]\n",
    "# for i in range(0,N):                      #defining the sample set\n",
    "#     x.append(random.choice(h))\n",
    "print(x)\n",
    "r=x.count(1)\n",
    "print(r)\n",
    "#plt.plot(x)"
   ]
  },
  {
   "cell_type": "code",
   "execution_count": 5,
   "id": "5deebfdc",
   "metadata": {},
   "outputs": [
    {
     "data": {
      "image/png": "[encoded data removed]",
      "text/plain": [
       "<Figure size 432x288 with 1 Axes>"
      ]
     },
     "metadata": {
      "needs_background": "light"
     },
     "output_type": "display_data"
    },
    {
     "data": {
      "text/plain": [
       "(array([ 7.,  0.,  0.,  0.,  0.,  0.,  0.,  0.,  0., 13.]),\n",
       " array([0. , 0.1, 0.2, 0.3, 0.4, 0.5, 0.6, 0.7, 0.8, 0.9, 1. ]),\n",
       " <BarContainer object of 10 artists>)"
      ]
     },
     "execution_count": 5,
     "metadata": {},
     "output_type": "execute_result"
    },
    {
     "data": {
      "image/png": "[encoded data removed]",
      "text/plain": [
       "<Figure size 432x288 with 1 Axes>"
      ]
     },
     "metadata": {
      "needs_background": "light"
     },
     "output_type": "display_data"
    }
   ],
   "source": [
    "H=np.linspace(0,1,N).tolist()\n",
    "def prior(z):                             #defining the prior function which is uniform and biased\n",
    "    p=[]\n",
    "    for j in range(0,len(z)):\n",
    "        if z[j]>=0 and z[j]<=1:\n",
    "            p.append(1)                  #heads\n",
    "        else:\n",
    "            p.append(0)\n",
    "    return p\n",
    "a=prior(H)\n",
    "plt.plot(H,a)\n",
    "plt.show()\n",
    "plt.hist(x)"
   ]
  },
  {
   "cell_type": "code",
   "execution_count": 6,
   "id": "6dc6375b",
   "metadata": {},
   "outputs": [],
   "source": [
    "def likelihood(N,H,x): #x heads in n tosses\n",
    "    p=[]\n",
    "    for i in range(0,len(x)):\n",
    "       p.append(scipy.special(N,x)*(H[i]**x[i])*(1-H[i])**(N-x[i]))\n",
    "    return p"
   ]
  },
  {
   "cell_type": "code",
   "execution_count": 7,
   "id": "92544a17",
   "metadata": {},
   "outputs": [],
   "source": [
    "def posterior(N,H,x):\n",
    "    l=[]\n",
    "    for j in range(0,len(x)): \n",
    "        l.append(prior(H)[j]*likelihood(N,H,x)[j])\n",
    "    #print(l)\n",
    "    return l"
   ]
  },
  {
   "cell_type": "code",
   "execution_count": 8,
   "id": "efcab9aa",
   "metadata": {},
   "outputs": [
    {
     "ename": "TypeError",
     "evalue": "'module' object is not callable",
     "output_type": "error",
     "traceback": [
      "\u001b[1;31m---------------------------------------------------------------------------\u001b[0m",
      "\u001b[1;31mTypeError\u001b[0m                                 Traceback (most recent call last)",
      "Input \u001b[1;32mIn [8]\u001b[0m, in \u001b[0;36m<cell line: 1>\u001b[1;34m()\u001b[0m\n\u001b[1;32m----> 1\u001b[0m p\u001b[38;5;241m=\u001b[39m\u001b[43mposterior\u001b[49m\u001b[43m(\u001b[49m\u001b[43mN\u001b[49m\u001b[43m,\u001b[49m\u001b[43mH\u001b[49m\u001b[43m,\u001b[49m\u001b[43mx\u001b[49m\u001b[43m)\u001b[49m\n\u001b[0;32m      2\u001b[0m p\n",
      "Input \u001b[1;32mIn [7]\u001b[0m, in \u001b[0;36mposterior\u001b[1;34m(N, H, x)\u001b[0m\n\u001b[0;32m      2\u001b[0m l\u001b[38;5;241m=\u001b[39m[]\n\u001b[0;32m      3\u001b[0m \u001b[38;5;28;01mfor\u001b[39;00m j \u001b[38;5;129;01min\u001b[39;00m \u001b[38;5;28mrange\u001b[39m(\u001b[38;5;241m0\u001b[39m,\u001b[38;5;28mlen\u001b[39m(x)): \n\u001b[1;32m----> 4\u001b[0m     l\u001b[38;5;241m.\u001b[39mappend(prior(H)[j]\u001b[38;5;241m*\u001b[39m\u001b[43mlikelihood\u001b[49m\u001b[43m(\u001b[49m\u001b[43mN\u001b[49m\u001b[43m,\u001b[49m\u001b[43mH\u001b[49m\u001b[43m,\u001b[49m\u001b[43mx\u001b[49m\u001b[43m)\u001b[49m[j])\n\u001b[0;32m      5\u001b[0m \u001b[38;5;66;03m#print(l)\u001b[39;00m\n\u001b[0;32m      6\u001b[0m \u001b[38;5;28;01mreturn\u001b[39;00m l\n",
      "Input \u001b[1;32mIn [6]\u001b[0m, in \u001b[0;36mlikelihood\u001b[1;34m(N, H, x)\u001b[0m\n\u001b[0;32m      2\u001b[0m p\u001b[38;5;241m=\u001b[39m[]\n\u001b[0;32m      3\u001b[0m \u001b[38;5;28;01mfor\u001b[39;00m i \u001b[38;5;129;01min\u001b[39;00m \u001b[38;5;28mrange\u001b[39m(\u001b[38;5;241m0\u001b[39m,\u001b[38;5;28mlen\u001b[39m(x)):\n\u001b[1;32m----> 4\u001b[0m    p\u001b[38;5;241m.\u001b[39mappend(\u001b[43mscipy\u001b[49m\u001b[38;5;241;43m.\u001b[39;49m\u001b[43mspecial\u001b[49m\u001b[43m(\u001b[49m\u001b[43mN\u001b[49m\u001b[43m,\u001b[49m\u001b[43mx\u001b[49m\u001b[43m)\u001b[49m\u001b[38;5;241m*\u001b[39m(H[i]\u001b[38;5;241m*\u001b[39m\u001b[38;5;241m*\u001b[39mx[i])\u001b[38;5;241m*\u001b[39m(\u001b[38;5;241m1\u001b[39m\u001b[38;5;241m-\u001b[39mH[i])\u001b[38;5;241m*\u001b[39m\u001b[38;5;241m*\u001b[39m(N\u001b[38;5;241m-\u001b[39mx[i]))\n\u001b[0;32m      5\u001b[0m \u001b[38;5;28;01mreturn\u001b[39;00m p\n",
      "\u001b[1;31mTypeError\u001b[0m: 'module' object is not callable"
     ]
    }
   ],
   "source": [
    "p=posterior(N,H,x)\n",
    "p"
   ]
  },
  {
   "cell_type": "code",
   "execution_count": 182,
   "id": "1a44c497",
   "metadata": {},
   "outputs": [
    {
     "data": {
      "text/plain": [
       "([0.0,\n",
       "  0.05263157894736842,\n",
       "  0.10526315789473684,\n",
       "  0.15789473684210525,\n",
       "  0.21052631578947367,\n",
       "  0.2631578947368421,\n",
       "  0.3157894736842105,\n",
       "  0.3684210526315789,\n",
       "  0.42105263157894735,\n",
       "  0.47368421052631576,\n",
       "  0.5263157894736842,\n",
       "  0.5789473684210527,\n",
       "  0.631578947368421,\n",
       "  0.6842105263157894,\n",
       "  0.7368421052631579,\n",
       "  0.7894736842105263,\n",
       "  0.8421052631578947,\n",
       "  0.894736842105263,\n",
       "  0.9473684210526315,\n",
       "  1.0],\n",
       " array([0, 1, 0, 0, 1, 1, 1, 0, 0, 1, 0, 0, 0, 0, 0, 0, 1, 1, 0, 1]))"
      ]
     },
     "execution_count": 182,
     "metadata": {},
     "output_type": "execute_result"
    }
   ],
   "source": [
    "H,x"
   ]
  },
  {
   "cell_type": "code",
   "execution_count": 183,
   "id": "3bd60f78",
   "metadata": {},
   "outputs": [
    {
     "data": {
      "text/plain": [
       "[1, 1, 1, 1, 1, 1, 1, 1, 1, 1, 1, 1, 1, 1, 1, 1, 1, 1, 1, 1]"
      ]
     },
     "execution_count": 183,
     "metadata": {},
     "output_type": "execute_result"
    }
   ],
   "source": [
    "prior(H)"
   ]
  },
  {
   "cell_type": "code",
   "execution_count": 184,
   "id": "0b610ef4",
   "metadata": {},
   "outputs": [
    {
     "data": {
      "text/plain": [
       "[<matplotlib.lines.Line2D at 0x22e60858ee0>]"
      ]
     },
     "execution_count": 184,
     "metadata": {},
     "output_type": "execute_result"
    },
    {
     "data": {
      "image/png": "[encoded data removed]",
      "text/plain": [
       "<Figure size 432x288 with 1 Axes>"
      ]
     },
     "metadata": {
      "needs_background": "light"
     },
     "output_type": "display_data"
    }
   ],
   "source": [
    "plt.plot(H,p) "
   ]
  },
  {
   "cell_type": "markdown",
   "id": "3af9a264",
   "metadata": {},
   "source": [
    "## Parameter estimation-II\n",
    "$$D_{k}=n_0[Ae^{-(x_k-x_0)^2/2w^2}+B]$$"
   ]
  },
  {
   "cell_type": "code",
   "execution_count": 283,
   "id": "91fa91d8",
   "metadata": {},
   "outputs": [
    {
     "data": {
      "image/png": "[encoded data removed]",
      "text/plain": [
       "<Figure size 432x288 with 1 Axes>"
      ]
     },
     "metadata": {
      "needs_background": "light"
     },
     "output_type": "display_data"
    },
    {
     "data": {
      "image/png": "[encoded data removed]",
      "text/plain": [
       "<Figure size 432x288 with 1 Axes>"
      ]
     },
     "metadata": {
      "needs_background": "light"
     },
     "output_type": "display_data"
    }
   ],
   "source": [
    "D1=1.7\n",
    "N1=[]\n",
    "for j in range(0,9):\n",
    "    N1.append(j)\n",
    "p1=[D1**N1[i]*m.e**(-D1)/np.math.factorial(N1[i]) for i in range(0,len(N1))]\n",
    "plt.plot(p1)\n",
    "plt.bar(N1,p1)\n",
    "plt.grid()\n",
    "plt.show()\n",
    "\n",
    "D2=12.5\n",
    "N2=[]\n",
    "for j in range(0,22):\n",
    "    N2.append(j)\n",
    "p2=[D2**N2[i]*m.e**(-D2)/np.math.factorial(N2[i]) for i in range(0,len(N2))]\n",
    "plt.plot(p2)\n",
    "plt.bar(N2,p2)\n",
    "plt.grid()\n",
    "plt.show()"
   ]
  },
  {
   "cell_type": "code",
   "execution_count": 282,
   "id": "c43a1bd3",
   "metadata": {},
   "outputs": [],
   "source": [
    "import math as m\n",
    "import numpy as np\n",
    "import matplotlib.pyplot as plt"
   ]
  },
  {
   "cell_type": "markdown",
   "id": "bbffe6e8",
   "metadata": {},
   "source": [
    "$$likelihood: prob([N_k]|A,B,I)=\\prod_{k=1}^{M} prob(N_k|A,B,I)$$\n",
    "where\n",
    "$$prob(N_k|A,B,I)=\\frac{D_{k}^{N_k}e^{-D_k}}{N_{k}!}$$"
   ]
  },
  {
   "cell_type": "markdown",
   "id": "57fe842e",
   "metadata": {},
   "source": [
    "## Model data "
   ]
  },
  {
   "cell_type": "code",
   "execution_count": 9,
   "id": "3e1a549e",
   "metadata": {},
   "outputs": [],
   "source": [
    "A=100\n",
    "B=10\n",
    "x0=20\n",
    "w=1.5\n",
    "n0=.7\n",
    "prior=1\n",
    "xk=np.linspace(10,30,1000)\n",
    "Dk=[n0*(A*m.e**(-((xk[i]-x0)**2)/2*w**2) +B) for i in range(0,len(xk))]"
   ]
  },
  {
   "cell_type": "code",
   "execution_count": 10,
   "id": "30297da4",
   "metadata": {},
   "outputs": [
    {
     "data": {
      "image/png": "[encoded data removed]",
      "text/plain": [
       "<Figure size 432x288 with 1 Axes>"
      ]
     },
     "metadata": {
      "needs_background": "light"
     },
     "output_type": "display_data"
    }
   ],
   "source": [
    "plt.plot(xk,Dk)\n",
    "plt.grid()\n",
    "plt.show()"
   ]
  },
  {
   "cell_type": "code",
   "execution_count": 12,
   "id": "575797f9",
   "metadata": {},
   "outputs": [
    {
     "name": "stdout",
     "output_type": "stream",
     "text": [
      "(array([  1.,   2.,   6.,  19.,  76., 114., 172., 173., 151., 115.,  87.,\n",
      "        56.,   9.,  15.,   3.,   1.]), array([ 5,  7,  9, 11, 13, 15, 17, 19, 21, 23, 25, 27, 29, 31, 33, 35, 37]), <BarContainer object of 16 artists>)\n"
     ]
    },
    {
     "data": {
      "image/png": "[encoded data removed]",
      "text/plain": [
       "<Figure size 432x288 with 1 Axes>"
      ]
     },
     "metadata": {
      "needs_background": "light"
     },
     "output_type": "display_data"
    }
   ],
   "source": [
    "num_sample = 1000\n",
    "lam = 20\n",
    "s = np.random.poisson(lam, num_sample)\n",
    "#print(s)\n",
    "#print(np.mean(s))\n",
    "a=plt.hist(s,bins=np.arange(min(s),max(s)+2,2))\n",
    "max(s),min(s)\n",
    "print(a)"
   ]
  },
  {
   "cell_type": "code",
   "execution_count": 6,
   "id": "a56515cd",
   "metadata": {},
   "outputs": [
    {
     "data": {
      "text/plain": [
       "<BarContainer object of 19 artists>"
      ]
     },
     "execution_count": 6,
     "metadata": {},
     "output_type": "execute_result"
    },
    {
     "data": {
      "image/png": "[encoded data removed]",
      "text/plain": [
       "<Figure size 432x288 with 1 Axes>"
      ]
     },
     "metadata": {
      "needs_background": "light"
     },
     "output_type": "display_data"
    }
   ],
   "source": [
    "Nk=a[0].tolist()\n",
    "x=np.linspace(10,20,len(Nk))\n",
    "plt.bar(x,Nk)"
   ]
  },
  {
   "cell_type": "code",
   "execution_count": 8,
   "id": "cabdf259",
   "metadata": {},
   "outputs": [
    {
     "data": {
      "text/plain": [
       "[6.0,\n",
       " 74.0,\n",
       " 412.0,\n",
       " 1666.0,\n",
       " 4384.0,\n",
       " 9032.0,\n",
       " 14172.0,\n",
       " 17191.0,\n",
       " 17472.0,\n",
       " 14158.0,\n",
       " 10092.0,\n",
       " 5974.0,\n",
       " 3140.0,\n",
       " 1397.0,\n",
       " 579.0,\n",
       " 180.0,\n",
       " 52.0,\n",
       " 14.0,\n",
       " 5.0]"
      ]
     },
     "execution_count": 8,
     "metadata": {},
     "output_type": "execute_result"
    }
   ],
   "source": [
    "Nk"
   ]
  },
  {
   "cell_type": "code",
   "execution_count": 7,
   "id": "881b3169",
   "metadata": {},
   "outputs": [
    {
     "data": {
      "image/png": "[encoded data removed]",
      "text/plain": [
       "<Figure size 432x288 with 1 Axes>"
      ]
     },
     "metadata": {
      "needs_background": "light"
     },
     "output_type": "display_data"
    },
    {
     "data": {
      "image/png": "[encoded data removed]",
      "text/plain": [
       "<Figure size 432x288 with 1 Axes>"
      ]
     },
     "metadata": {
      "needs_background": "light"
     },
     "output_type": "display_data"
    },
    {
     "name": "stderr",
     "output_type": "stream",
     "text": [
      "C:\\Users\\pankh\\AppData\\Local\\Temp\\ipykernel_22200\\175584831.py:12: DeprecationWarning: Using factorial() with floats is deprecated\n",
      "  prob_Nk=[(D[j]**Nk[j])*m.e**(-D[j])/np.math.factorial(Nk[j]) for j in range(0,len(D))]\n",
      "C:\\Users\\pankh\\AppData\\Local\\Temp\\ipykernel_22200\\175584831.py:12: RuntimeWarning: overflow encountered in double_scalars\n",
      "  prob_Nk=[(D[j]**Nk[j])*m.e**(-D[j])/np.math.factorial(Nk[j]) for j in range(0,len(D))]\n"
     ]
    },
    {
     "ename": "OverflowError",
     "evalue": "int too large to convert to float",
     "output_type": "error",
     "traceback": [
      "\u001b[1;31m---------------------------------------------------------------------------\u001b[0m",
      "\u001b[1;31mOverflowError\u001b[0m                             Traceback (most recent call last)",
      "Input \u001b[1;32mIn [7]\u001b[0m, in \u001b[0;36m<cell line: 12>\u001b[1;34m()\u001b[0m\n\u001b[0;32m     10\u001b[0m plt\u001b[38;5;241m.\u001b[39mgrid()\n\u001b[0;32m     11\u001b[0m plt\u001b[38;5;241m.\u001b[39mshow()\n\u001b[1;32m---> 12\u001b[0m prob_Nk\u001b[38;5;241m=\u001b[39m[(D[j]\u001b[38;5;241m*\u001b[39m\u001b[38;5;241m*\u001b[39mNk[j])\u001b[38;5;241m*\u001b[39mm\u001b[38;5;241m.\u001b[39me\u001b[38;5;241m*\u001b[39m\u001b[38;5;241m*\u001b[39m(\u001b[38;5;241m-\u001b[39mD[j])\u001b[38;5;241m/\u001b[39mnp\u001b[38;5;241m.\u001b[39mmath\u001b[38;5;241m.\u001b[39mfactorial(Nk[j]) \u001b[38;5;28;01mfor\u001b[39;00m j \u001b[38;5;129;01min\u001b[39;00m \u001b[38;5;28mrange\u001b[39m(\u001b[38;5;241m0\u001b[39m,\u001b[38;5;28mlen\u001b[39m(D))]\n\u001b[0;32m     13\u001b[0m plt\u001b[38;5;241m.\u001b[39mbar(x,prob_Nk)\n\u001b[0;32m     14\u001b[0m plt\u001b[38;5;241m.\u001b[39mgrid()\n",
      "Input \u001b[1;32mIn [7]\u001b[0m, in \u001b[0;36m<listcomp>\u001b[1;34m(.0)\u001b[0m\n\u001b[0;32m     10\u001b[0m plt\u001b[38;5;241m.\u001b[39mgrid()\n\u001b[0;32m     11\u001b[0m plt\u001b[38;5;241m.\u001b[39mshow()\n\u001b[1;32m---> 12\u001b[0m prob_Nk\u001b[38;5;241m=\u001b[39m[\u001b[43m(\u001b[49m\u001b[43mD\u001b[49m\u001b[43m[\u001b[49m\u001b[43mj\u001b[49m\u001b[43m]\u001b[49m\u001b[38;5;241;43m*\u001b[39;49m\u001b[38;5;241;43m*\u001b[39;49m\u001b[43mNk\u001b[49m\u001b[43m[\u001b[49m\u001b[43mj\u001b[49m\u001b[43m]\u001b[49m\u001b[43m)\u001b[49m\u001b[38;5;241;43m*\u001b[39;49m\u001b[43mm\u001b[49m\u001b[38;5;241;43m.\u001b[39;49m\u001b[43me\u001b[49m\u001b[38;5;241;43m*\u001b[39;49m\u001b[38;5;241;43m*\u001b[39;49m\u001b[43m(\u001b[49m\u001b[38;5;241;43m-\u001b[39;49m\u001b[43mD\u001b[49m\u001b[43m[\u001b[49m\u001b[43mj\u001b[49m\u001b[43m]\u001b[49m\u001b[43m)\u001b[49m\u001b[38;5;241;43m/\u001b[39;49m\u001b[43mnp\u001b[49m\u001b[38;5;241;43m.\u001b[39;49m\u001b[43mmath\u001b[49m\u001b[38;5;241;43m.\u001b[39;49m\u001b[43mfactorial\u001b[49m\u001b[43m(\u001b[49m\u001b[43mNk\u001b[49m\u001b[43m[\u001b[49m\u001b[43mj\u001b[49m\u001b[43m]\u001b[49m\u001b[43m)\u001b[49m \u001b[38;5;28;01mfor\u001b[39;00m j \u001b[38;5;129;01min\u001b[39;00m \u001b[38;5;28mrange\u001b[39m(\u001b[38;5;241m0\u001b[39m,\u001b[38;5;28mlen\u001b[39m(D))]\n\u001b[0;32m     13\u001b[0m plt\u001b[38;5;241m.\u001b[39mbar(x,prob_Nk)\n\u001b[0;32m     14\u001b[0m plt\u001b[38;5;241m.\u001b[39mgrid()\n",
      "\u001b[1;31mOverflowError\u001b[0m: int too large to convert to float"
     ]
    }
   ],
   "source": [
    "A=101\n",
    "B=11\n",
    "x=np.linspace(10,30,100)\n",
    "D=n0*(A*m.e**(-((x-x0)**2)/2*w**2) +B)\n",
    "xk=np.linspace(10,30,len(Nk))\n",
    "plt.bar(xk,Nk)\n",
    "plt.grid()\n",
    "plt.show()\n",
    "plt.plot(x,D)\n",
    "plt.grid()\n",
    "plt.show()\n",
    "prob_Nk=[(D[j]**Nk[j])*m.e**(-D[j])/np.math.factorial(Nk[j]) for j in range(0,len(D))]\n",
    "plt.bar(x,prob_Nk)\n",
    "plt.grid()\n",
    "plt.show()"
   ]
  },
  {
   "cell_type": "code",
   "execution_count": 280,
   "id": "cf7ad49c",
   "metadata": {},
   "outputs": [
    {
     "data": {
      "text/plain": [
       "<BarContainer object of 10 artists>"
      ]
     },
     "execution_count": 280,
     "metadata": {},
     "output_type": "execute_result"
    },
    {
     "data": {
      "image/png": "[encoded data removed]",
      "text/plain": [
       "<Figure size 432x288 with 1 Axes>"
      ]
     },
     "metadata": {
      "needs_background": "light"
     },
     "output_type": "display_data"
    }
   ],
   "source": [
    "x=np.linspace(-5,5,10)\n",
    "n=np.random.randint(100,size=len(x))\n",
    "plt.bar(x,n,edgecolor='black',color='white')"
   ]
  },
  {
   "cell_type": "markdown",
   "id": "d3f948d2",
   "metadata": {},
   "source": [
    "## Marginal distributions \n",
    "$$prob(A|[N_k],I)=\\int_{0}^{\\infty} prob(A,B|[N_k],I)dB$$\n",
    "\n",
    "$$prob(A,B|[Nk],I) \\propto prob([Nk]|A,B,I) \\times prob(A,B|I)$$\n",
    "\n",
    "where\n",
    "$$prob(N_k|A,B,I)=\\frac{D_{k}^{N_k}e^{-D_k}}{N_{k}!}$$\n",
    "and \n",
    "$$prob(A,B|I) =  constant for A \\geq 0 and B \\geq 0 $$"
   ]
  },
  {
   "cell_type": "code",
   "execution_count": 46,
   "id": "12cd3f58",
   "metadata": {},
   "outputs": [
    {
     "data": {
      "text/plain": [
       "function"
      ]
     },
     "execution_count": 46,
     "metadata": {},
     "output_type": "execute_result"
    }
   ],
   "source": [
    "Ak=np.linspace(0,3,100)\n",
    "Nk=np.arange(0,100)\n",
    "n0=2\n",
    "w=2.12\n",
    "x0=0\n",
    "D=lambda B: n0*(Ak*m.e**(-((Nk-x0)**2)/2*w**2) +B)\n",
    "type(D)"
   ]
  },
  {
   "cell_type": "code",
   "execution_count": 63,
   "id": "709ca49d",
   "metadata": {},
   "outputs": [
    {
     "name": "stderr",
     "output_type": "stream",
     "text": [
      "C:\\Users\\pankh\\AppData\\Local\\Temp\\ipykernel_4120\\2996096428.py:12: DeprecationWarning: Using factorial() with floats is deprecated\n",
      "  posterior=prior*(Dk**Nk[i])*(m.e**(-Dk))/np.math.factorial(Nk[i])\n"
     ]
    }
   ],
   "source": [
    "n0=2\n",
    "w=2.12\n",
    "x0=0\n",
    "prior=2\n",
    "Nk=a[0].tolist()\n",
    "Ak=np.linspace(4,10,len(Nk))\n",
    "Bk=np.linspace(0,3,len(Nk))\n",
    "xk=np.linspace(-5,5,len(Nk))\n",
    "for i in range(0,len(Bk)):\n",
    "    for j in range(0,len(Ak)):\n",
    "        Dk=n0*(j*m.e**(-((Nk[i]-x0)**2)/2*w**2) +i) \n",
    "        posterior=prior*(Dk**Nk[i])*(m.e**(-Dk))/np.math.factorial(Nk[i]) "
   ]
  },
  {
   "cell_type": "code",
   "execution_count": 20,
   "id": "7de75eae",
   "metadata": {},
   "outputs": [],
   "source": [
    "# n=50\n",
    "# xk=np.linspace(-1.5,1.5,n)\n",
    "# Dk=[n0*(A*m.e**(-((xk[i]-x0)**2)/2*w**2) +B) for i in range(0,len(xk))]\n",
    "# prior=np.full(n,5)\n",
    "# Nk=[]\n",
    "# for q in range(0,n):\n",
    "#     Nk.append(q)\n",
    "# likelihood=[Dk[j]**Nk[j]*m.e**(-Dk[j])/np.math.factorial(Nk[j]) for j in range(0,len(Dk))]"
   ]
  },
  {
   "cell_type": "code",
   "execution_count": 21,
   "id": "2716fc07",
   "metadata": {},
   "outputs": [],
   "source": [
    "# n=100\n",
    "# A=np.linspace(0,3,n)\n",
    "# B=np.linspace(0,3,n)\n",
    "# xk=np.linspace(-10,10,n)\n",
    "# Dk=[n0*(A[i]*m.e**(-((xk[i]-x0)**2)/2*w**2) +B[i]) for i in range(0,len(xk))]\n",
    "# prior=np.full(n,5)\n",
    "# Nk=[]\n",
    "# for q in range(0,n):\n",
    "#     Nk.append(q)\n",
    "# likelihood=[Dk[j]**Nk[j]*m.e**(-Dk[j])/np.math.factorial(Nk[j]) for j in range(0,len(Dk))]\n",
    "# post=likelihood*prior\n",
    "# plt.plot(B,Dk)\n",
    "# plt.grid()\n",
    "# plt.show()"
   ]
  },
  {
   "cell_type": "code",
   "execution_count": 22,
   "id": "f2d93980",
   "metadata": {},
   "outputs": [],
   "source": [
    "# post=likelihood*prior\n",
    "# plt.plot(post)\n",
    "# plt.grid()\n",
    "# plt.show()"
   ]
  },
  {
   "cell_type": "code",
   "execution_count": 150,
   "id": "cb486b0b",
   "metadata": {},
   "outputs": [],
   "source": [
    "# A=np.arange(99,102,1)\n",
    "# B=np.arange(19,22,1)\n",
    "# for b in range(0,len(B)):\n",
    "#     for a in range(0,len(A)):\n",
    "#         D=n0*(a*m.e**(-((xk-x0)**2)/2*w**2) +b)\n",
    "#         l=(D**Nk)*(m.e**-D)/np.math.factorial(Nk)"
   ]
  },
  {
   "cell_type": "code",
   "execution_count": 11,
   "id": "4e9e97be",
   "metadata": {},
   "outputs": [
    {
     "ename": "NameError",
     "evalue": "name 'Nk' is not defined",
     "output_type": "error",
     "traceback": [
      "\u001b[1;31m---------------------------------------------------------------------------\u001b[0m",
      "\u001b[1;31mNameError\u001b[0m                                 Traceback (most recent call last)",
      "Input \u001b[1;32mIn [11]\u001b[0m, in \u001b[0;36m<cell line: 6>\u001b[1;34m()\u001b[0m\n\u001b[0;32m      6\u001b[0m \u001b[38;5;28;01mfor\u001b[39;00m a \u001b[38;5;129;01min\u001b[39;00m \u001b[38;5;28mrange\u001b[39m(\u001b[38;5;241m0\u001b[39m,\u001b[38;5;28mlen\u001b[39m(A)):\n\u001b[0;32m      7\u001b[0m         D\u001b[38;5;241m=\u001b[39mnp\u001b[38;5;241m.\u001b[39marray([n0\u001b[38;5;241m*\u001b[39m(A[a]\u001b[38;5;241m*\u001b[39m(m\u001b[38;5;241m.\u001b[39me\u001b[38;5;241m*\u001b[39m\u001b[38;5;241m*\u001b[39m(\u001b[38;5;241m-\u001b[39m((xk[i]\u001b[38;5;241m-\u001b[39mx0)\u001b[38;5;241m*\u001b[39m\u001b[38;5;241m*\u001b[39m\u001b[38;5;241m2\u001b[39m)\u001b[38;5;241m/\u001b[39m(\u001b[38;5;241m2\u001b[39m\u001b[38;5;241m*\u001b[39mw\u001b[38;5;241m*\u001b[39m\u001b[38;5;241m*\u001b[39m\u001b[38;5;241m2\u001b[39m)))\u001b[38;5;241m/\u001b[39mm\u001b[38;5;241m.\u001b[39msqrt(\u001b[38;5;241m2\u001b[39m\u001b[38;5;241m*\u001b[39mm\u001b[38;5;241m.\u001b[39mpi\u001b[38;5;241m*\u001b[39mw\u001b[38;5;241m*\u001b[39m\u001b[38;5;241m*\u001b[39m\u001b[38;5;241m2\u001b[39m) \u001b[38;5;241m+\u001b[39mB) \u001b[38;5;28;01mfor\u001b[39;00m i \u001b[38;5;129;01min\u001b[39;00m \u001b[38;5;28mrange\u001b[39m(\u001b[38;5;241m0\u001b[39m,\u001b[38;5;28mlen\u001b[39m(xk))])\n\u001b[1;32m----> 8\u001b[0m         l\u001b[38;5;241m=\u001b[39m(D\u001b[38;5;241m*\u001b[39m\u001b[38;5;241m*\u001b[39m\u001b[43mNk\u001b[49m)\u001b[38;5;241m*\u001b[39mm\u001b[38;5;241m.\u001b[39me\u001b[38;5;241m*\u001b[39m\u001b[38;5;241m*\u001b[39m(\u001b[38;5;241m-\u001b[39mdk)\u001b[38;5;241m/\u001b[39mscipy\u001b[38;5;241m.\u001b[39mspecial\u001b[38;5;241m.\u001b[39mfactorial(Nk)\n\u001b[0;32m      9\u001b[0m         like\u001b[38;5;241m=\u001b[39mnp\u001b[38;5;241m.\u001b[39mprod(l)\n\u001b[0;32m     10\u001b[0m         \u001b[38;5;66;03m#print(like)\u001b[39;00m\n",
      "\u001b[1;31mNameError\u001b[0m: name 'Nk' is not defined"
     ]
    }
   ],
   "source": [
    "## Marginalization\n",
    "Nk=np.random.poisson(D)\n",
    "A=np.linspace(0,15,100)\n",
    "B=2\n",
    "post=[]\n",
    "for a in range(0,len(A)):\n",
    "        D=np.array([n0*(A[a]*(m.e**(-((xk[i]-x0)**2)/(2*w**2)))/m.sqrt(2*m.pi*w**2) +B) for i in range(0,len(xk))])\n",
    "        l=(D**Nk)*m.e**(-dk)/scipy.special.factorial(Nk)\n",
    "        like=np.prod(l)\n",
    "        #print(like)\n",
    "        post.append(like*prior)\n",
    "\n",
    "plt.plot(A,post)\n",
    "\n",
    "from scipy import integrate\n",
    "B =np.linspace(1,5,100)\n",
    "marginal_A = np.zeros(len(B))\n",
    "#posterior = posterior.transpose()\n",
    "y = np.linspace(0,20,100)\n",
    "for i in range(0,len(B)):\n",
    "    marginal_A[i] = integrate.simpson(posterior[i],y)\n",
    "#print(marginal_A)\n",
    "plt.plot(B,marginal_A)\n",
    "#np.shape(marginal_A)\n",
    "\n"
   ]
  },
  {
   "cell_type": "code",
   "execution_count": null,
   "id": "1c5dcff2",
   "metadata": {},
   "outputs": [],
   "source": []
  }
 ],
 "metadata": {
  "kernelspec": {
   "display_name": "Python 3 (ipykernel)",
   "language": "python",
   "name": "python3"
  },
  "language_info": {
   "codemirror_mode": {
    "name": "ipython",
    "version": 3
   },
   "file_extension": ".py",
   "mimetype": "text/x-python",
   "name": "python",
   "nbconvert_exporter": "python",
   "pygments_lexer": "ipython3",
   "version": "3.9.12"
  }
 },
 "nbformat": 4,
 "nbformat_minor": 5
}
