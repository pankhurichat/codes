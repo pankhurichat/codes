{
 "cells": [
  {
   "cell_type": "code",
   "execution_count": 7,
   "id": "be53919c",
   "metadata": {},
   "outputs": [],
   "source": [
    "import pandas as pd"
   ]
  },
  {
   "cell_type": "code",
   "execution_count": 63,
   "id": "cc8f31d3",
   "metadata": {},
   "outputs": [
    {
     "data": {
      "text/html": [
       "<div>\n",
       "<style scoped>\n",
       "    .dataframe tbody tr th:only-of-type {\n",
       "        vertical-align: middle;\n",
       "    }\n",
       "\n",
       "    .dataframe tbody tr th {\n",
       "        vertical-align: top;\n",
       "    }\n",
       "\n",
       "    .dataframe thead th {\n",
       "        text-align: right;\n",
       "    }\n",
       "</style>\n",
       "<table border=\"1\" class=\"dataframe\">\n",
       "  <thead>\n",
       "    <tr style=\"text-align: right;\">\n",
       "      <th></th>\n",
       "      <th>Beehiveclusterdata</th>\n",
       "      <th>Unnamed: 1</th>\n",
       "      <th>Unnamed: 2</th>\n",
       "    </tr>\n",
       "  </thead>\n",
       "  <tbody>\n",
       "    <tr>\n",
       "      <th>0</th>\n",
       "      <td>Vmag</td>\n",
       "      <td>logL</td>\n",
       "      <td>prob</td>\n",
       "    </tr>\n",
       "    <tr>\n",
       "      <th>1</th>\n",
       "      <td>6.3</td>\n",
       "      <td>1.77</td>\n",
       "      <td>100.0</td>\n",
       "    </tr>\n",
       "    <tr>\n",
       "      <th>2</th>\n",
       "      <td>6.39</td>\n",
       "      <td>1.85</td>\n",
       "      <td>100.0</td>\n",
       "    </tr>\n",
       "    <tr>\n",
       "      <th>3</th>\n",
       "      <td>6.44</td>\n",
       "      <td>1.85</td>\n",
       "      <td>100.0</td>\n",
       "    </tr>\n",
       "    <tr>\n",
       "      <th>4</th>\n",
       "      <td>6.59</td>\n",
       "      <td>1.76</td>\n",
       "      <td>100.0</td>\n",
       "    </tr>\n",
       "    <tr>\n",
       "      <th>...</th>\n",
       "      <td>...</td>\n",
       "      <td>...</td>\n",
       "      <td>...</td>\n",
       "    </tr>\n",
       "    <tr>\n",
       "      <th>100</th>\n",
       "      <td>12.83</td>\n",
       "      <td>-0.7</td>\n",
       "      <td>0.0</td>\n",
       "    </tr>\n",
       "    <tr>\n",
       "      <th>101</th>\n",
       "      <td>13.13</td>\n",
       "      <td>-0.78</td>\n",
       "      <td>100.0</td>\n",
       "    </tr>\n",
       "    <tr>\n",
       "      <th>102</th>\n",
       "      <td>13.2</td>\n",
       "      <td>-0.8</td>\n",
       "      <td>100.0</td>\n",
       "    </tr>\n",
       "    <tr>\n",
       "      <th>103</th>\n",
       "      <td>13.7</td>\n",
       "      <td>-1.11</td>\n",
       "      <td>0.0</td>\n",
       "    </tr>\n",
       "    <tr>\n",
       "      <th>104</th>\n",
       "      <td>13.97</td>\n",
       "      <td>-0.94</td>\n",
       "      <td>100.0</td>\n",
       "    </tr>\n",
       "  </tbody>\n",
       "</table>\n",
       "<p>105 rows × 3 columns</p>\n",
       "</div>"
      ],
      "text/plain": [
       "    Beehiveclusterdata Unnamed: 1 Unnamed: 2\n",
       "0                 Vmag       logL       prob\n",
       "1                  6.3       1.77      100.0\n",
       "2                 6.39       1.85      100.0\n",
       "3                 6.44       1.85      100.0\n",
       "4                 6.59       1.76      100.0\n",
       "..                 ...        ...        ...\n",
       "100              12.83       -0.7        0.0\n",
       "101              13.13      -0.78      100.0\n",
       "102               13.2       -0.8      100.0\n",
       "103               13.7      -1.11        0.0\n",
       "104              13.97      -0.94      100.0\n",
       "\n",
       "[105 rows x 3 columns]"
      ]
     },
     "execution_count": 63,
     "metadata": {},
     "output_type": "execute_result"
    }
   ],
   "source": [
    "a=pd.read_excel(\"Beehiveclusterdata.xlsx\")\n",
    "a"
   ]
  },
  {
   "cell_type": "code",
   "execution_count": 21,
   "id": "bcf4af6f",
   "metadata": {},
   "outputs": [],
   "source": [
    "m = pd.read_excel(\"Beehiveclusterdata.xlsx\",usecols='A') #apparent mgnitude \n",
    "logL = pd.read_excel(\"Beehiveclusterdata.xlsx\",usecols='B') #log of luminosity in terms of sun's\n",
    "prob = pd.read_excel(\"Beehiveclusterdata.xlsx\",usecols='C') #probability that the star is part of the cluster."
   ]
  },
  {
   "cell_type": "code",
   "execution_count": 73,
   "id": "a2b5d150",
   "metadata": {},
   "outputs": [],
   "source": [
    "m=np.array(m)\n",
    "m[0]=0"
   ]
  },
  {
   "cell_type": "code",
   "execution_count": 74,
   "id": "9f755574",
   "metadata": {},
   "outputs": [],
   "source": [
    "logL=np.array(logL)\n",
    "logL[0]=0"
   ]
  },
  {
   "cell_type": "code",
   "execution_count": 75,
   "id": "d70f2f70",
   "metadata": {},
   "outputs": [],
   "source": [
    "prob=np.array(prob)\n",
    "prob[0]=0"
   ]
  },
  {
   "cell_type": "markdown",
   "id": "a0117c02",
   "metadata": {},
   "source": [
    "$$m-M=5log_{10} \\frac{d}{10pc}$$"
   ]
  },
  {
   "cell_type": "code",
   "execution_count": 30,
   "id": "1a0c4acc",
   "metadata": {},
   "outputs": [],
   "source": [
    "import numpy as np"
   ]
  },
  {
   "cell_type": "code",
   "execution_count": 37,
   "id": "08e8ef8c",
   "metadata": {},
   "outputs": [],
   "source": [
    "prob=np.array(prob)\n",
    "prob[0]=0"
   ]
  },
  {
   "cell_type": "code",
   "execution_count": 77,
   "id": "0665d6fc",
   "metadata": {},
   "outputs": [],
   "source": [
    "p=[]\n",
    "mag=[]\n",
    "l=[]\n",
    "for i in range(0,len(prob)):\n",
    "    if prob[i]>=90:\n",
    "        p.append(prob[i])\n",
    "        mag.append(m[i])\n",
    "        l.append(logL[i])"
   ]
  },
  {
   "cell_type": "code",
   "execution_count": 84,
   "id": "ef307edd",
   "metadata": {},
   "outputs": [
    {
     "data": {
      "text/plain": [
       "array([6.67, 0], dtype=object)"
      ]
     },
     "execution_count": 84,
     "metadata": {},
     "output_type": "execute_result"
    }
   ],
   "source": [
    "mag[4]"
   ]
  },
  {
   "cell_type": "code",
   "execution_count": 85,
   "id": "aa34b30e",
   "metadata": {},
   "outputs": [
    {
     "data": {
      "text/plain": [
       "array([1.62, 0], dtype=object)"
      ]
     },
     "execution_count": 85,
     "metadata": {},
     "output_type": "execute_result"
    }
   ],
   "source": [
    "l[4]"
   ]
  },
  {
   "cell_type": "code",
   "execution_count": 94,
   "id": "08be515e",
   "metadata": {},
   "outputs": [],
   "source": [
    "M=-26.74 #reference as sun\n",
    "L=[10**l for l in l]\n",
    "d=[(L[i]*10**((mag[i]-M)/2.5))**.5 for i in range(0,len(l))]"
   ]
  },
  {
   "cell_type": "code",
   "execution_count": 95,
   "id": "9cf56903",
   "metadata": {},
   "outputs": [
    {
     "data": {
      "text/plain": [
       "16594548.77459294"
      ]
     },
     "execution_count": 95,
     "metadata": {},
     "output_type": "execute_result"
    }
   ],
   "source": [
    "np.mean(d)"
   ]
  },
  {
   "cell_type": "code",
   "execution_count": 99,
   "id": "10eb33ac",
   "metadata": {},
   "outputs": [
    {
     "data": {
      "text/plain": [
       "<matplotlib.collections.PathCollection at 0x17b984f75b0>"
      ]
     },
     "execution_count": 99,
     "metadata": {},
     "output_type": "execute_result"
    },
    {
     "data": {
      "image/png": "[encoded data removed]",
      "text/plain": [
       "<Figure size 432x288 with 1 Axes>"
      ]
     },
     "metadata": {
      "needs_background": "light"
     },
     "output_type": "display_data"
    }
   ],
   "source": [
    "import matplotlib.pyplot as plt\n",
    "plt.scatter(logL,m)"
   ]
  },
  {
   "cell_type": "code",
   "execution_count": null,
   "id": "88afcb82",
   "metadata": {},
   "outputs": [],
   "source": []
  }
 ],
 "metadata": {
  "kernelspec": {
   "display_name": "Python 3 (ipykernel)",
   "language": "python",
   "name": "python3"
  },
  "language_info": {
   "codemirror_mode": {
    "name": "ipython",
    "version": 3
   },
   "file_extension": ".py",
   "mimetype": "text/x-python",
   "name": "python",
   "nbconvert_exporter": "python",
   "pygments_lexer": "ipython3",
   "version": "3.9.12"
  }
 },
 "nbformat": 4,
 "nbformat_minor": 5
}
